{
 "cells": [
  {
   "cell_type": "code",
   "execution_count": 1,
   "id": "536940d4",
   "metadata": {},
   "outputs": [
    {
     "name": "stdout",
     "output_type": "stream",
     "text": [
      "Jumlah data tersebut adalah: 1069.1\n",
      "Total data tersebut adalah: 10\n",
      "Mean: 106.91\n"
     ]
    }
   ],
   "source": [
    "# modul 1.1 menghitung mean dari data\n",
    "import statistics\n",
    "\n",
    "data = [100.5, 99.7, 101.3, 99.9, 98.9, 165, 102.2, 98.7, 102.9, 100]\n",
    "\n",
    "jumlah = sum(data)\n",
    "print(f\"Jumlah data tersebut adalah: {jumlah}\")\n",
    "\n",
    "total = len(data)\n",
    "print(f\"Total data tersebut adalah: {total}\")\n",
    "\n",
    "mean = jumlah / total\n",
    "print(f\"Mean: {mean}\")"
   ]
  },
  {
   "cell_type": "code",
   "execution_count": null,
   "id": "8f7db756",
   "metadata": {},
   "outputs": [],
   "source": []
  }
 ],
 "metadata": {
  "kernelspec": {
   "display_name": "Python 3 (ipykernel)",
   "language": "python",
   "name": "python3"
  },
  "language_info": {
   "codemirror_mode": {
    "name": "ipython",
    "version": 3
   },
   "file_extension": ".py",
   "mimetype": "text/x-python",
   "name": "python",
   "nbconvert_exporter": "python",
   "pygments_lexer": "ipython3",
   "version": "3.11.5"
  }
 },
 "nbformat": 4,
 "nbformat_minor": 5
}
